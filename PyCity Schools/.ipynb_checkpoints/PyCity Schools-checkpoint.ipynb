{
 "cells": [
  {
   "cell_type": "code",
   "execution_count": 4,
   "metadata": {},
   "outputs": [
    {
     "name": "stdout",
     "output_type": "stream",
     "text": [
      "   Student ID       student_name gender grade        school_name  \\\n",
      "0           0       Paul Bradley      M   9th  Huang High School   \n",
      "1           1       Victor Smith      M  12th  Huang High School   \n",
      "2           2    Kevin Rodriguez      M  12th  Huang High School   \n",
      "3           3  Dr. Richard Scott      M  12th  Huang High School   \n",
      "4           4         Bonnie Ray      F   9th  Huang High School   \n",
      "\n",
      "   reading_score  math_score  School ID      type  size   budget  \n",
      "0             66          79          0  District  2917  1910635  \n",
      "1             94          61          0  District  2917  1910635  \n",
      "2             90          60          0  District  2917  1910635  \n",
      "3             67          58          0  District  2917  1910635  \n",
      "4             97          84          0  District  2917  1910635  \n"
     ]
    }
   ],
   "source": [
    "# Dependencies and Setup\n",
    "import pandas as pd\n",
    "\n",
    "# File to Load (Remember to Change These)\n",
    "school_data = \"Resources/schools_complete.csv\"\n",
    "student_data = \"Resources/students_complete.csv\"\n",
    "\n",
    "# Read School and Student Data File and store into Pandas DataFrames\n",
    "school_data_df = pd.read_csv(school_data)\n",
    "student_data_df= pd.read_csv(student_data)\n",
    "\n",
    "# Combine the data into a single dataset.  \n",
    "df = pd.merge(student_data_df, school_data_df, how=\"left\", on=[\"school_name\", \"school_name\"])\n",
    "print (df.head())"
   ]
  },
  {
   "cell_type": "code",
   "execution_count": 5,
   "metadata": {},
   "outputs": [
    {
     "data": {
      "text/html": [
       "<div>\n",
       "<style scoped>\n",
       "    .dataframe tbody tr th:only-of-type {\n",
       "        vertical-align: middle;\n",
       "    }\n",
       "\n",
       "    .dataframe tbody tr th {\n",
       "        vertical-align: top;\n",
       "    }\n",
       "\n",
       "    .dataframe thead th {\n",
       "        text-align: right;\n",
       "    }\n",
       "</style>\n",
       "<table border=\"1\" class=\"dataframe\">\n",
       "  <thead>\n",
       "    <tr style=\"text-align: right;\">\n",
       "      <th></th>\n",
       "      <th>Total Schools</th>\n",
       "      <th>Total Budget</th>\n",
       "      <th>Total Students</th>\n",
       "      <th>Average Math Score</th>\n",
       "      <th>Average Reading</th>\n",
       "      <th>% Passing Math</th>\n",
       "      <th>% Reading Score</th>\n",
       "      <th>Overall Passing</th>\n",
       "    </tr>\n",
       "  </thead>\n",
       "  <tbody>\n",
       "    <tr>\n",
       "      <th>0</th>\n",
       "      <td>15</td>\n",
       "      <td>24649428</td>\n",
       "      <td>39170</td>\n",
       "      <td>78.985371</td>\n",
       "      <td>81.87784</td>\n",
       "      <td>29370</td>\n",
       "      <td>85.805463</td>\n",
       "      <td>29370.858055</td>\n",
       "    </tr>\n",
       "  </tbody>\n",
       "</table>\n",
       "</div>"
      ],
      "text/plain": [
       "   Total Schools  Total Budget  Total Students  Average Math Score  \\\n",
       "0             15      24649428           39170           78.985371   \n",
       "\n",
       "   Average Reading  % Passing Math  % Reading Score  Overall Passing  \n",
       "0         81.87784           29370        85.805463     29370.858055  "
      ]
     },
     "execution_count": 5,
     "metadata": {},
     "output_type": "execute_result"
    }
   ],
   "source": [
    "#District Summary\n",
    "\n",
    "#Calculate the total number of schools\n",
    "\n",
    "a=len(school_data_df[\"school_name\"])\n",
    "\n",
    "#Calculate the total number of students\n",
    "\n",
    "b=len(student_data_df[\"student_name\"])\n",
    "\n",
    "#Calculate the total budget\n",
    "\n",
    "c=school_data_df[\"budget\"].sum()\n",
    "\n",
    "#Calculate the average math score\n",
    "\n",
    "d=student_data_df[\"math_score\"].mean()\n",
    "\n",
    "#Calculate the average reading score\n",
    "\n",
    "h=student_data_df[\"reading_score\"].mean()\n",
    "\n",
    "#Calculate the percentage of students with a passing math score (70 or greater)\n",
    "\n",
    "e=(len(df[df[\"math_score\"]>=70])) #number students passes/total number)\n",
    "#e=e/b*100\n",
    "\n",
    "\n",
    "#Calculate the percentage of students with a passing reading score (70 or greater)\n",
    "f=(len(df[df[\"reading_score\"]>=70]))\n",
    "f=f/b*100\n",
    "   \n",
    "#Calculate the percentage of students who passed math and reading (% Overall Passing)\n",
    "#g=df[\"reading_score\"]+[\"math_score\"]>=70 #total of passing math + total of passing reading\n",
    "g=e+f/100\n",
    "\n",
    "#Create a dataframe to hold the above results\n",
    "\n",
    "#Optional: give the displayed data cleaner formatting\n",
    "summary_df = pd.DataFrame({\"Total Schools\":[a],\"Total Budget\":[c],\"Total Students\":[b],\"Average Math Score\":[d],\"Average Reading\":[h],\n",
    "                           \"% Passing Math\":[e],\"% Reading Score\":[f],\"Overall Passing\":[g],})\n",
    "summary_df"
   ]
  },
  {
   "cell_type": "code",
   "execution_count": 6,
   "metadata": {},
   "outputs": [],
   "source": [
    "#School Summary\n",
    "#Create an overview table that summarizes key metrics about each school, including:\n",
    "\n",
    "#School Name\n",
    "#School Type #go through each school name to find the type\n",
    "#Total Students per school\n",
    "#Total School Budget per school\n",
    "\n",
    "school_data_df.columns\n",
    "school_summary_df = school_data_df[[\"school_name\",\"type\",\"size\",\"budget\",]]\n",
    "school_df=school_summary_df.set_index(\"school_name\")\n",
    "#school_df.head()\n",
    "#school_df=school_summary.set_index(\"school_name\")\n",
    "\n"
   ]
  },
  {
   "cell_type": "code",
   "execution_count": 7,
   "metadata": {},
   "outputs": [],
   "source": [
    "#Per Student Budget per school- take budget per school divide by size\n",
    "student_budget_df = pd.DataFrame(columns=[\"budget\",\"size\"])\n",
    "student_budget_df=df[\"budget\"]/student_budget_df[\"size\"]\n"
   ]
  },
  {
   "cell_type": "code",
   "execution_count": 8,
   "metadata": {},
   "outputs": [
    {
     "data": {
      "text/plain": [
       "school_name\n",
       "Bailey High School       81.033963\n",
       "Cabrera High School      83.975780\n",
       "Figueroa High School     81.158020\n",
       "Ford High School         80.746258\n",
       "Griffin High School      83.816757\n",
       "Hernandez High School    80.934412\n",
       "Holden High School       83.814988\n",
       "Huang High School        81.182722\n",
       "Johnson High School      80.966394\n",
       "Pena High School         84.044699\n",
       "Rodriguez High School    80.744686\n",
       "Shelton High School      83.725724\n",
       "Thomas High School       83.848930\n",
       "Wilson High School       83.989488\n",
       "Wright High School       83.955000\n",
       "Name: reading_score, dtype: float64"
      ]
     },
     "execution_count": 8,
     "metadata": {},
     "output_type": "execute_result"
    }
   ],
   "source": [
    "# Get the average of each column within the GroupBy object\n",
    "\n",
    "#average of the math score per school\n",
    "per_school_math_df = df.groupby([\"school_name\"]).mean()[\"math_score\"]\n",
    "per_school_math_df                       \n",
    "\n",
    "#Average Reading Score\n",
    "# Get the average of each column within the GroupBy object\n",
    "per_school_read_df = df.groupby([\"school_name\"]).mean()[\"reading_score\"]\n",
    "per_school_read_df\n"
   ]
  },
  {
   "cell_type": "code",
   "execution_count": 11,
   "metadata": {},
   "outputs": [
    {
     "ename": "NameError",
     "evalue": "name 'columns' is not defined",
     "output_type": "error",
     "traceback": [
      "\u001b[1;31m---------------------------------------------------------------------------\u001b[0m",
      "\u001b[1;31mNameError\u001b[0m                                 Traceback (most recent call last)",
      "\u001b[1;32m<ipython-input-11-f22ba3681b19>\u001b[0m in \u001b[0;36m<module>\u001b[1;34m\u001b[0m\n\u001b[0;32m      2\u001b[0m \u001b[1;31m#total passing per school - total first over = or >70/ size of the school\u001b[0m\u001b[1;33m\u001b[0m\u001b[1;33m\u001b[0m\u001b[1;33m\u001b[0m\u001b[0m\n\u001b[0;32m      3\u001b[0m \u001b[1;33m\u001b[0m\u001b[0m\n\u001b[1;32m----> 4\u001b[1;33m \u001b[0mper_school_math_df\u001b[0m \u001b[1;33m=\u001b[0m \u001b[0mpd\u001b[0m\u001b[1;33m.\u001b[0m\u001b[0mDataFrame\u001b[0m\u001b[1;33m(\u001b[0m\u001b[1;33m[\u001b[0m\u001b[0mcolumns\u001b[0m\u001b[1;33m[\u001b[0m\u001b[1;34m\"math_score\"\u001b[0m\u001b[1;33m]\u001b[0m\u001b[1;33m>=\u001b[0m\u001b[1;36m70\u001b[0m\u001b[1;33m]\u001b[0m\u001b[1;33m)\u001b[0m\u001b[1;33m\u001b[0m\u001b[1;33m\u001b[0m\u001b[0m\n\u001b[0m\u001b[0;32m      5\u001b[0m \u001b[1;31m#pd.DataFrame(columns=[\"budget\",\"size\"])\u001b[0m\u001b[1;33m\u001b[0m\u001b[1;33m\u001b[0m\u001b[1;33m\u001b[0m\u001b[0m\n\u001b[0;32m      6\u001b[0m \u001b[1;31m#student_budget_df=df[\"budget\"]/student_budget_df[\"size\"]\u001b[0m\u001b[1;33m\u001b[0m\u001b[1;33m\u001b[0m\u001b[1;33m\u001b[0m\u001b[0m\n",
      "\u001b[1;31mNameError\u001b[0m: name 'columns' is not defined"
     ]
    }
   ],
   "source": [
    "#% Passing Math per school\n",
    "#total passing per school - total first over = or >70/ size of the school\n",
    "\n",
    "per_school_math_df = pd.DataFrame([columns[\"math_score\"]>=70])\n",
    "#pd.DataFrame(columns=[\"budget\",\"size\"])\n",
    "#student_budget_df=df[\"budget\"]/student_budget_df[\"size\"]\n",
    "#per_school_math_df=df[columns[\"reading_score\"]>=70]\n",
    "#per_math_df=per_school_math_df/[\"size\"]\n",
    "per_school_math_df\n",
    "\n",
    "#percent_math_df = df.groupby([\"math_score\"])>=70[\"size\"]\n",
    "#percent_math_df\n",
    "   \n",
    "\n",
    "#% Passing Reading\n",
    "#percent_read_df = school_data_df[\"size\"]/[f]\n",
    "#percent_read_df\n",
    "\n",
    "\n"
   ]
  },
  {
   "cell_type": "code",
   "execution_count": 55,
   "metadata": {},
   "outputs": [
    {
     "ename": "NameError",
     "evalue": "name 'percent_math_df' is not defined",
     "output_type": "error",
     "traceback": [
      "\u001b[1;31m---------------------------------------------------------------------------\u001b[0m",
      "\u001b[1;31mNameError\u001b[0m                                 Traceback (most recent call last)",
      "\u001b[1;32m<ipython-input-55-c54aea795f52>\u001b[0m in \u001b[0;36m<module>\u001b[1;34m\u001b[0m\n\u001b[0;32m      1\u001b[0m \u001b[1;31m#% Overall Passing (The percentage of students that passed math and reading.)\u001b[0m\u001b[1;33m\u001b[0m\u001b[1;33m\u001b[0m\u001b[1;33m\u001b[0m\u001b[0m\n\u001b[1;32m----> 2\u001b[1;33m \u001b[0moverall_df\u001b[0m\u001b[1;33m=\u001b[0m\u001b[0mpercent_math_df\u001b[0m\u001b[1;33m+\u001b[0m\u001b[0mpercent_read_df\u001b[0m\u001b[1;33m*\u001b[0m\u001b[1;36m100\u001b[0m\u001b[1;33m\u001b[0m\u001b[1;33m\u001b[0m\u001b[0m\n\u001b[0m\u001b[0;32m      3\u001b[0m \u001b[0moverall_df\u001b[0m\u001b[1;33m\u001b[0m\u001b[1;33m\u001b[0m\u001b[0m\n",
      "\u001b[1;31mNameError\u001b[0m: name 'percent_math_df' is not defined"
     ]
    }
   ],
   "source": [
    "#% Overall Passing (The percentage of students that passed math and reading.)\n",
    "overall_df=percent_math_df+percent_read_df*100\n",
    "overall_df"
   ]
  },
  {
   "cell_type": "code",
   "execution_count": 46,
   "metadata": {},
   "outputs": [],
   "source": [
    "#school_summary_df=pd.DataFrame({\"Type\":[\"type\"],\"Total Students\":[\"size\"], \"Budget per School\":[\"budget\"],\"Budget per Student\":[student_budget],\n",
    "                                #\"Average Math Score\":[per_school_math],\"Average Reading Score\":[per_school_read],\"% Passing Math\":[percent_math],\n",
    "                                #\"% Passing Reading\":[percent_read],\"% Overall Passing\":[overall]})\n",
    "#school_summary_df.head(5)\n",
    "\n",
    "#Create a dataframe to hold the above results"
   ]
  },
  {
   "cell_type": "code",
   "execution_count": 12,
   "metadata": {},
   "outputs": [],
   "source": [
    "#Sort and display the top five performing schools by % overall passing.\n"
   ]
  },
  {
   "cell_type": "code",
   "execution_count": 13,
   "metadata": {},
   "outputs": [],
   "source": [
    "#Sort and display the five worst-performing schools by % overall passing."
   ]
  },
  {
   "cell_type": "code",
   "execution_count": 14,
   "metadata": {},
   "outputs": [],
   "source": [
    "#Math Scores by Grade\n",
    "#Create a table that lists the average Reading Score for students of each grade level (9th, 10th, 11th, 12th) at each school.\n",
    "\n",
    "#Create a pandas series for each grade. Hint: use a conditional statement.\n",
    "\n",
    "#Group each series by school\n",
    "\n",
    "#Combine the series into a dataframe\n",
    "\n",
    "#Optional: give the displayed data cleaner formatting"
   ]
  },
  {
   "cell_type": "code",
   "execution_count": 15,
   "metadata": {},
   "outputs": [],
   "source": [
    "#Reading Score by Grade\n",
    "#Perform the same operations as above for reading scores"
   ]
  },
  {
   "cell_type": "code",
   "execution_count": 16,
   "metadata": {},
   "outputs": [],
   "source": [
    "#3 more modules- holy shit"
   ]
  },
  {
   "cell_type": "code",
   "execution_count": null,
   "metadata": {},
   "outputs": [],
   "source": []
  },
  {
   "cell_type": "code",
   "execution_count": null,
   "metadata": {},
   "outputs": [],
   "source": []
  },
  {
   "cell_type": "code",
   "execution_count": null,
   "metadata": {},
   "outputs": [],
   "source": []
  }
 ],
 "metadata": {
  "kernelspec": {
   "display_name": "Python 3",
   "language": "python",
   "name": "python3"
  },
  "language_info": {
   "codemirror_mode": {
    "name": "ipython",
    "version": 3
   },
   "file_extension": ".py",
   "mimetype": "text/x-python",
   "name": "python",
   "nbconvert_exporter": "python",
   "pygments_lexer": "ipython3",
   "version": "3.8.3"
  }
 },
 "nbformat": 4,
 "nbformat_minor": 4
}
