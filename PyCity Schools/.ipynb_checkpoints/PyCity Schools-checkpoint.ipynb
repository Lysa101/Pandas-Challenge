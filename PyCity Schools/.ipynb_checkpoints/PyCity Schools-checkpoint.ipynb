{
 "cells": [
  {
   "cell_type": "code",
   "execution_count": 24,
   "metadata": {},
   "outputs": [
    {
     "name": "stdout",
     "output_type": "stream",
     "text": [
      "   Student ID       student_name gender grade        school_name  \\\n",
      "0           0       Paul Bradley      M   9th  Huang High School   \n",
      "1           1       Victor Smith      M  12th  Huang High School   \n",
      "2           2    Kevin Rodriguez      M  12th  Huang High School   \n",
      "3           3  Dr. Richard Scott      M  12th  Huang High School   \n",
      "4           4         Bonnie Ray      F   9th  Huang High School   \n",
      "\n",
      "   reading_score  math_score  School ID      type  size   budget  \n",
      "0             66          79          0  District  2917  1910635  \n",
      "1             94          61          0  District  2917  1910635  \n",
      "2             90          60          0  District  2917  1910635  \n",
      "3             67          58          0  District  2917  1910635  \n",
      "4             97          84          0  District  2917  1910635  \n"
     ]
    }
   ],
   "source": [
    "# Dependencies and Setup\n",
    "import pandas as pd\n",
    "\n",
    "# File to Load (Remember to Change These)\n",
    "school_data = \"Resources/schools_complete.csv\"\n",
    "student_data = \"Resources/students_complete.csv\"\n",
    "\n",
    "# Read School and Student Data File and store into Pandas DataFrames\n",
    "school_data_df = pd.read_csv(school_data)\n",
    "student_data_df= pd.read_csv(student_data)\n",
    "\n",
    "# Combine the data into a single dataset.  \n",
    "df = pd.merge(student_data_df, school_data_df, how=\"left\", on=[\"school_name\", \"school_name\"])\n",
    "print (df.head())"
   ]
  },
  {
   "cell_type": "code",
   "execution_count": 25,
   "metadata": {},
   "outputs": [
    {
     "data": {
      "text/html": [
       "<div>\n",
       "<style scoped>\n",
       "    .dataframe tbody tr th:only-of-type {\n",
       "        vertical-align: middle;\n",
       "    }\n",
       "\n",
       "    .dataframe tbody tr th {\n",
       "        vertical-align: top;\n",
       "    }\n",
       "\n",
       "    .dataframe thead th {\n",
       "        text-align: right;\n",
       "    }\n",
       "</style>\n",
       "<table border=\"1\" class=\"dataframe\">\n",
       "  <thead>\n",
       "    <tr style=\"text-align: right;\">\n",
       "      <th></th>\n",
       "      <th>Total Schools</th>\n",
       "      <th>Total Budget</th>\n",
       "      <th>Total Students</th>\n",
       "      <th>Average Math Score</th>\n",
       "      <th>Average Reading</th>\n",
       "      <th>% Passing Math</th>\n",
       "      <th>% Reading Score</th>\n",
       "      <th>Overall Passing</th>\n",
       "    </tr>\n",
       "  </thead>\n",
       "  <tbody>\n",
       "    <tr>\n",
       "      <th>0</th>\n",
       "      <td>15</td>\n",
       "      <td>24649428</td>\n",
       "      <td>39170</td>\n",
       "      <td>78.985371</td>\n",
       "      <td>81.87784</td>\n",
       "      <td>29370</td>\n",
       "      <td>85.805463</td>\n",
       "      <td>29370.858055</td>\n",
       "    </tr>\n",
       "  </tbody>\n",
       "</table>\n",
       "</div>"
      ],
      "text/plain": [
       "   Total Schools  Total Budget  Total Students  Average Math Score  \\\n",
       "0             15      24649428           39170           78.985371   \n",
       "\n",
       "   Average Reading  % Passing Math  % Reading Score  Overall Passing  \n",
       "0         81.87784           29370        85.805463     29370.858055  "
      ]
     },
     "execution_count": 25,
     "metadata": {},
     "output_type": "execute_result"
    }
   ],
   "source": [
    "#District Summary\n",
    "\n",
    "#Calculate the total number of schools\n",
    "\n",
    "a=len(school_data_df[\"school_name\"])\n",
    "\n",
    "#Calculate the total number of students\n",
    "\n",
    "b=len(student_data_df[\"student_name\"])\n",
    "\n",
    "#Calculate the total budget\n",
    "\n",
    "c=school_data_df[\"budget\"].sum()\n",
    "\n",
    "#Calculate the average math score\n",
    "\n",
    "d=student_data_df[\"math_score\"].mean()\n",
    "\n",
    "#Calculate the average reading score\n",
    "\n",
    "h=student_data_df[\"reading_score\"].mean()\n",
    "\n",
    "#Calculate the percentage of students with a passing math score (70 or greater)\n",
    "\n",
    "e=(len(df[df[\"math_score\"]>=70])) #number students passes/total number)\n",
    "#e=e/b*100\n",
    "\n",
    "\n",
    "#Calculate the percentage of students with a passing reading score (70 or greater)\n",
    "f=(len(df[df[\"reading_score\"]>=70]))\n",
    "f=f/b*100\n",
    "   \n",
    "#Calculate the percentage of students who passed math and reading (% Overall Passing)\n",
    "#g=df[\"reading_score\"]+[\"math_score\"]>=70 #total of passing math + total of passing reading\n",
    "g=e+f/100\n",
    "\n",
    "#Create a dataframe to hold the above results\n",
    "\n",
    "#Optional: give the displayed data cleaner formatting\n",
    "summary_df = pd.DataFrame({\"Total Schools\":[a],\"Total Budget\":[c],\"Total Students\":[b],\"Average Math Score\":[d],\"Average Reading\":[h],\n",
    "                           \"% Passing Math\":[e],\"% Reading Score\":[f],\"Overall Passing\":[g],})\n",
    "summary_df"
   ]
  },
  {
   "cell_type": "code",
   "execution_count": 26,
   "metadata": {},
   "outputs": [],
   "source": [
    "#School Summary\n",
    "#Create an overview table that summarizes key metrics about each school, including:\n",
    "\n",
    "#School Name\n",
    "#School Type #go through each school name to find the type\n",
    "#Total Students per school\n",
    "#Total School Budget per school\n",
    "\n",
    "school_data_df.columns\n",
    "school_summary_df = school_data_df[[\"school_name\",\"type\",\"size\",\"budget\",]]\n",
    "school_df=school_summary_df.set_index(\"school_name\")\n",
    "#school_df.head()\n",
    "#school_df=school_summary.set_index(\"school_name\")\n",
    "\n"
   ]
  },
  {
   "cell_type": "code",
   "execution_count": 27,
   "metadata": {},
   "outputs": [],
   "source": [
    "#Per Student Budget per school- take budget per school divide by size\n",
    "student_budget_df = pd.DataFrame(columns=[\"budget\",\"size\"])\n",
    "i=student_budget_df[\"budget\"]/student_budget_df[\"size\"]\n",
    "\n"
   ]
  },
  {
   "cell_type": "code",
   "execution_count": 28,
   "metadata": {},
   "outputs": [],
   "source": [
    "# Get the average of each column within the GroupBy object\n",
    "\n",
    "#average of the math score per school\n",
    "per_school_math_df = df.groupby([\"school_name\"]).mean()[\"math_score\"]\n",
    "j=per_school_math_df                       \n",
    "\n",
    "#Average Reading Score\n",
    "# Get the average of each column within the GroupBy object\n",
    "per_school_read_df = df.groupby([\"school_name\"]).mean()[\"reading_score\"]\n",
    "k=per_school_read_df\n"
   ]
  },
  {
   "cell_type": "code",
   "execution_count": 29,
   "metadata": {},
   "outputs": [
    {
     "ename": "NameError",
     "evalue": "name 'columns' is not defined",
     "output_type": "error",
     "traceback": [
      "\u001b[1;31m---------------------------------------------------------------------------\u001b[0m",
      "\u001b[1;31mNameError\u001b[0m                                 Traceback (most recent call last)",
      "\u001b[1;32m<ipython-input-29-f22ba3681b19>\u001b[0m in \u001b[0;36m<module>\u001b[1;34m\u001b[0m\n\u001b[0;32m      2\u001b[0m \u001b[1;31m#total passing per school - total first over = or >70/ size of the school\u001b[0m\u001b[1;33m\u001b[0m\u001b[1;33m\u001b[0m\u001b[1;33m\u001b[0m\u001b[0m\n\u001b[0;32m      3\u001b[0m \u001b[1;33m\u001b[0m\u001b[0m\n\u001b[1;32m----> 4\u001b[1;33m \u001b[0mper_school_math_df\u001b[0m \u001b[1;33m=\u001b[0m \u001b[0mpd\u001b[0m\u001b[1;33m.\u001b[0m\u001b[0mDataFrame\u001b[0m\u001b[1;33m(\u001b[0m\u001b[1;33m[\u001b[0m\u001b[0mcolumns\u001b[0m\u001b[1;33m[\u001b[0m\u001b[1;34m\"math_score\"\u001b[0m\u001b[1;33m]\u001b[0m\u001b[1;33m>=\u001b[0m\u001b[1;36m70\u001b[0m\u001b[1;33m]\u001b[0m\u001b[1;33m)\u001b[0m\u001b[1;33m\u001b[0m\u001b[1;33m\u001b[0m\u001b[0m\n\u001b[0m\u001b[0;32m      5\u001b[0m \u001b[1;31m#pd.DataFrame(columns=[\"budget\",\"size\"])\u001b[0m\u001b[1;33m\u001b[0m\u001b[1;33m\u001b[0m\u001b[1;33m\u001b[0m\u001b[0m\n\u001b[0;32m      6\u001b[0m \u001b[1;31m#student_budget_df=df[\"budget\"]/student_budget_df[\"size\"]\u001b[0m\u001b[1;33m\u001b[0m\u001b[1;33m\u001b[0m\u001b[1;33m\u001b[0m\u001b[0m\n",
      "\u001b[1;31mNameError\u001b[0m: name 'columns' is not defined"
     ]
    }
   ],
   "source": [
    "#% Passing Math per school\n",
    "#total passing per school - total first over = or >70/ size of the school\n",
    "\n",
    "per_school_math_df = pd.DataFrame([columns[\"math_score\"]>=70])\n",
    "#pd.DataFrame(columns=[\"budget\",\"size\"])\n",
    "#student_budget_df=df[\"budget\"]/student_budget_df[\"size\"]\n",
    "#per_school_math_df=df[columns[\"reading_score\"]>=70]\n",
    "#per_math_df=per_school_math_df/[\"size\"]\n",
    "per_school_math_df\n",
    "\n",
    "#percent_math_df = df.groupby([\"math_score\"])>=70[\"size\"]\n",
    "#percent_math_df\n",
    "   \n",
    "\n",
    "#% Passing Reading\n",
    "#percent_read_df = school_data_df[\"size\"]/[f]\n",
    "#percent_read_df\n",
    "\n",
    "\n"
   ]
  },
  {
   "cell_type": "code",
   "execution_count": 30,
   "metadata": {},
   "outputs": [
    {
     "ename": "NameError",
     "evalue": "name 'percent_math_df' is not defined",
     "output_type": "error",
     "traceback": [
      "\u001b[1;31m---------------------------------------------------------------------------\u001b[0m",
      "\u001b[1;31mNameError\u001b[0m                                 Traceback (most recent call last)",
      "\u001b[1;32m<ipython-input-30-c54aea795f52>\u001b[0m in \u001b[0;36m<module>\u001b[1;34m\u001b[0m\n\u001b[0;32m      1\u001b[0m \u001b[1;31m#% Overall Passing (The percentage of students that passed math and reading.)\u001b[0m\u001b[1;33m\u001b[0m\u001b[1;33m\u001b[0m\u001b[1;33m\u001b[0m\u001b[0m\n\u001b[1;32m----> 2\u001b[1;33m \u001b[0moverall_df\u001b[0m\u001b[1;33m=\u001b[0m\u001b[0mpercent_math_df\u001b[0m\u001b[1;33m+\u001b[0m\u001b[0mpercent_read_df\u001b[0m\u001b[1;33m*\u001b[0m\u001b[1;36m100\u001b[0m\u001b[1;33m\u001b[0m\u001b[1;33m\u001b[0m\u001b[0m\n\u001b[0m\u001b[0;32m      3\u001b[0m \u001b[0moverall_df\u001b[0m\u001b[1;33m\u001b[0m\u001b[1;33m\u001b[0m\u001b[0m\n",
      "\u001b[1;31mNameError\u001b[0m: name 'percent_math_df' is not defined"
     ]
    }
   ],
   "source": [
    "#% Overall Passing (The percentage of students that passed math and reading.)\n",
    "overall_df=percent_math_df+percent_read_df*100\n",
    "overall_df"
   ]
  },
  {
   "cell_type": "code",
   "execution_count": 31,
   "metadata": {},
   "outputs": [
    {
     "ename": "NameError",
     "evalue": "name 'percent_math' is not defined",
     "output_type": "error",
     "traceback": [
      "\u001b[1;31m---------------------------------------------------------------------------\u001b[0m",
      "\u001b[1;31mNameError\u001b[0m                                 Traceback (most recent call last)",
      "\u001b[1;32m<ipython-input-31-b179e94749bc>\u001b[0m in \u001b[0;36m<module>\u001b[1;34m\u001b[0m\n\u001b[0;32m      1\u001b[0m school_summary_df=pd.DataFrame({\"Type\":[\"type\"],\"Total Students\":[\"size\"], \"Budget per School\":[\"budget\"],\"Budget per Student\":[i],\n\u001b[1;32m----> 2\u001b[1;33m                                 \u001b[1;34m\"Average Math Score\"\u001b[0m\u001b[1;33m:\u001b[0m\u001b[1;33m[\u001b[0m\u001b[0mj\u001b[0m\u001b[1;33m]\u001b[0m\u001b[1;33m,\u001b[0m\u001b[1;34m\"Average Reading Score\"\u001b[0m\u001b[1;33m:\u001b[0m\u001b[1;33m[\u001b[0m\u001b[0mk\u001b[0m\u001b[1;33m]\u001b[0m\u001b[1;33m,\u001b[0m\u001b[1;34m\"% Passing Math\"\u001b[0m\u001b[1;33m:\u001b[0m\u001b[1;33m[\u001b[0m\u001b[0mpercent_math\u001b[0m\u001b[1;33m]\u001b[0m\u001b[1;33m,\u001b[0m\u001b[1;33m\u001b[0m\u001b[1;33m\u001b[0m\u001b[0m\n\u001b[0m\u001b[0;32m      3\u001b[0m                                 \"% Passing Reading\":[percent_read],\"% Overall Passing\":[overall]})\n\u001b[0;32m      4\u001b[0m \u001b[0mschool_summary_df\u001b[0m\u001b[1;33m.\u001b[0m\u001b[0mhead\u001b[0m\u001b[1;33m(\u001b[0m\u001b[1;36m5\u001b[0m\u001b[1;33m)\u001b[0m\u001b[1;33m\u001b[0m\u001b[1;33m\u001b[0m\u001b[0m\n\u001b[0;32m      5\u001b[0m \u001b[1;33m\u001b[0m\u001b[0m\n",
      "\u001b[1;31mNameError\u001b[0m: name 'percent_math' is not defined"
     ]
    }
   ],
   "source": [
    "school_summary_df=pd.DataFrame({\"Type\":[\"type\"],\"Total Students\":[\"size\"], \"Budget per School\":[\"budget\"],\"Budget per Student\":[i],\n",
    "                                \"Average Math Score\":[j],\"Average Reading Score\":[k],\"% Passing Math\":[percent_math],\n",
    "                                \"% Passing Reading\":[percent_read],\"% Overall Passing\":[overall]})\n",
    "school_summary_df.head(5)\n",
    "\n",
    "#Create a dataframe to hold the above results"
   ]
  },
  {
   "cell_type": "code",
   "execution_count": 43,
   "metadata": {},
   "outputs": [
    {
     "ename": "KeyError",
     "evalue": "'% Overall Passing'",
     "output_type": "error",
     "traceback": [
      "\u001b[1;31m---------------------------------------------------------------------------\u001b[0m",
      "\u001b[1;31mKeyError\u001b[0m                                  Traceback (most recent call last)",
      "\u001b[1;32m<ipython-input-43-26f359922eb4>\u001b[0m in \u001b[0;36m<module>\u001b[1;34m\u001b[0m\n\u001b[0;32m      1\u001b[0m \u001b[1;31m#Sort and display the top five performing schools by % overall passing.\u001b[0m\u001b[1;33m\u001b[0m\u001b[1;33m\u001b[0m\u001b[1;33m\u001b[0m\u001b[0m\n\u001b[1;32m----> 2\u001b[1;33m \u001b[0mtop_five_df\u001b[0m\u001b[1;33m=\u001b[0m\u001b[0mdf\u001b[0m\u001b[1;33m.\u001b[0m\u001b[0msort_values\u001b[0m\u001b[1;33m(\u001b[0m\u001b[1;34m\"% Overall Passing\"\u001b[0m\u001b[1;33m,\u001b[0m \u001b[0mascending\u001b[0m\u001b[1;33m=\u001b[0m\u001b[1;34m\"False\"\u001b[0m\u001b[1;33m)\u001b[0m\u001b[1;33m\u001b[0m\u001b[1;33m\u001b[0m\u001b[0m\n\u001b[0m\u001b[0;32m      3\u001b[0m \u001b[0mtop_five_df\u001b[0m\u001b[1;33m.\u001b[0m\u001b[0mhead\u001b[0m\u001b[1;33m(\u001b[0m\u001b[1;36m5\u001b[0m\u001b[1;33m)\u001b[0m\u001b[1;33m\u001b[0m\u001b[1;33m\u001b[0m\u001b[0m\n",
      "\u001b[1;32m~\\Anaconda3\\lib\\site-packages\\pandas\\core\\frame.py\u001b[0m in \u001b[0;36msort_values\u001b[1;34m(self, by, axis, ascending, inplace, kind, na_position, ignore_index)\u001b[0m\n\u001b[0;32m   4925\u001b[0m \u001b[1;33m\u001b[0m\u001b[0m\n\u001b[0;32m   4926\u001b[0m             \u001b[0mby\u001b[0m \u001b[1;33m=\u001b[0m \u001b[0mby\u001b[0m\u001b[1;33m[\u001b[0m\u001b[1;36m0\u001b[0m\u001b[1;33m]\u001b[0m\u001b[1;33m\u001b[0m\u001b[1;33m\u001b[0m\u001b[0m\n\u001b[1;32m-> 4927\u001b[1;33m             \u001b[0mk\u001b[0m \u001b[1;33m=\u001b[0m \u001b[0mself\u001b[0m\u001b[1;33m.\u001b[0m\u001b[0m_get_label_or_level_values\u001b[0m\u001b[1;33m(\u001b[0m\u001b[0mby\u001b[0m\u001b[1;33m,\u001b[0m \u001b[0maxis\u001b[0m\u001b[1;33m=\u001b[0m\u001b[0maxis\u001b[0m\u001b[1;33m)\u001b[0m\u001b[1;33m\u001b[0m\u001b[1;33m\u001b[0m\u001b[0m\n\u001b[0m\u001b[0;32m   4928\u001b[0m \u001b[1;33m\u001b[0m\u001b[0m\n\u001b[0;32m   4929\u001b[0m             \u001b[1;32mif\u001b[0m \u001b[0misinstance\u001b[0m\u001b[1;33m(\u001b[0m\u001b[0mascending\u001b[0m\u001b[1;33m,\u001b[0m \u001b[1;33m(\u001b[0m\u001b[0mtuple\u001b[0m\u001b[1;33m,\u001b[0m \u001b[0mlist\u001b[0m\u001b[1;33m)\u001b[0m\u001b[1;33m)\u001b[0m\u001b[1;33m:\u001b[0m\u001b[1;33m\u001b[0m\u001b[1;33m\u001b[0m\u001b[0m\n",
      "\u001b[1;32m~\\Anaconda3\\lib\\site-packages\\pandas\\core\\generic.py\u001b[0m in \u001b[0;36m_get_label_or_level_values\u001b[1;34m(self, key, axis)\u001b[0m\n\u001b[0;32m   1690\u001b[0m             \u001b[0mvalues\u001b[0m \u001b[1;33m=\u001b[0m \u001b[0mself\u001b[0m\u001b[1;33m.\u001b[0m\u001b[0maxes\u001b[0m\u001b[1;33m[\u001b[0m\u001b[0maxis\u001b[0m\u001b[1;33m]\u001b[0m\u001b[1;33m.\u001b[0m\u001b[0mget_level_values\u001b[0m\u001b[1;33m(\u001b[0m\u001b[0mkey\u001b[0m\u001b[1;33m)\u001b[0m\u001b[1;33m.\u001b[0m\u001b[0m_values\u001b[0m\u001b[1;33m\u001b[0m\u001b[1;33m\u001b[0m\u001b[0m\n\u001b[0;32m   1691\u001b[0m         \u001b[1;32melse\u001b[0m\u001b[1;33m:\u001b[0m\u001b[1;33m\u001b[0m\u001b[1;33m\u001b[0m\u001b[0m\n\u001b[1;32m-> 1692\u001b[1;33m             \u001b[1;32mraise\u001b[0m \u001b[0mKeyError\u001b[0m\u001b[1;33m(\u001b[0m\u001b[0mkey\u001b[0m\u001b[1;33m)\u001b[0m\u001b[1;33m\u001b[0m\u001b[1;33m\u001b[0m\u001b[0m\n\u001b[0m\u001b[0;32m   1693\u001b[0m \u001b[1;33m\u001b[0m\u001b[0m\n\u001b[0;32m   1694\u001b[0m         \u001b[1;31m# Check for duplicates\u001b[0m\u001b[1;33m\u001b[0m\u001b[1;33m\u001b[0m\u001b[1;33m\u001b[0m\u001b[0m\n",
      "\u001b[1;31mKeyError\u001b[0m: '% Overall Passing'"
     ]
    }
   ],
   "source": [
    "#Sort and display the top five performing schools by % overall passing.\n",
    "top_five_df=df.sort_values(\"% Overall Passing\", ascending=\"False\")\n",
    "top_five_df.head(5)"
   ]
  },
  {
   "cell_type": "code",
   "execution_count": 13,
   "metadata": {},
   "outputs": [],
   "source": [
    "#Sort and display the five worst-performing schools by % overall passing.\n",
    "top_five_df=df.sort_values(\"% Overall Passing\")\n",
    "top_five_df.head(5)"
   ]
  },
  {
   "cell_type": "code",
   "execution_count": 44,
   "metadata": {},
   "outputs": [
    {
     "ename": "SyntaxError",
     "evalue": "EOL while scanning string literal (<ipython-input-44-f0f46f38cb55>, line 3)",
     "output_type": "error",
     "traceback": [
      "\u001b[1;36m  File \u001b[1;32m\"<ipython-input-44-f0f46f38cb55>\"\u001b[1;36m, line \u001b[1;32m3\u001b[0m\n\u001b[1;33m    grades_df = pd.DataFrame({\"9th\",\"10th\",\"11th\",\"12th})\u001b[0m\n\u001b[1;37m                                                         ^\u001b[0m\n\u001b[1;31mSyntaxError\u001b[0m\u001b[1;31m:\u001b[0m EOL while scanning string literal\n"
     ]
    }
   ],
   "source": [
    "#Math Scores by Grade\n",
    "#Create a table that lists the average Reading Score for students of each grade level (9th, 10th, 11th, 12th) at each school.\n",
    "grades_df = pd.DataFrame({\"9th\",\"10th\",\"11th\",\"12th})\n",
    "grades_df[\"grade\"].unique()\n",
    "#grades_df = df.groupby([\"grade\"]).mean()[\"reading\"]\n",
    "grades_df                       \n",
    "\n",
    "\n",
    "\n",
    "\n",
    "\n",
    "\n"
   ]
  },
  {
   "cell_type": "code",
   "execution_count": null,
   "metadata": {},
   "outputs": [],
   "source": [
    "#Create a pandas series for each grade. Hint: use a conditional statement.\n"
   ]
  },
  {
   "cell_type": "code",
   "execution_count": 58,
   "metadata": {},
   "outputs": [
    {
     "data": {
      "text/html": [
       "<div>\n",
       "<style scoped>\n",
       "    .dataframe tbody tr th:only-of-type {\n",
       "        vertical-align: middle;\n",
       "    }\n",
       "\n",
       "    .dataframe tbody tr th {\n",
       "        vertical-align: top;\n",
       "    }\n",
       "\n",
       "    .dataframe thead th {\n",
       "        text-align: right;\n",
       "    }\n",
       "</style>\n",
       "<table border=\"1\" class=\"dataframe\">\n",
       "  <thead>\n",
       "    <tr style=\"text-align: right;\">\n",
       "      <th></th>\n",
       "      <th>Student ID</th>\n",
       "      <th>student_name</th>\n",
       "      <th>gender</th>\n",
       "      <th>grade</th>\n",
       "      <th>reading_score</th>\n",
       "      <th>math_score</th>\n",
       "      <th>School ID</th>\n",
       "      <th>type</th>\n",
       "      <th>size</th>\n",
       "      <th>budget</th>\n",
       "    </tr>\n",
       "    <tr>\n",
       "      <th>school_name</th>\n",
       "      <th></th>\n",
       "      <th></th>\n",
       "      <th></th>\n",
       "      <th></th>\n",
       "      <th></th>\n",
       "      <th></th>\n",
       "      <th></th>\n",
       "      <th></th>\n",
       "      <th></th>\n",
       "      <th></th>\n",
       "    </tr>\n",
       "  </thead>\n",
       "  <tbody>\n",
       "    <tr>\n",
       "      <th>Huang High School</th>\n",
       "      <td>0</td>\n",
       "      <td>Paul Bradley</td>\n",
       "      <td>M</td>\n",
       "      <td>9th</td>\n",
       "      <td>66</td>\n",
       "      <td>79</td>\n",
       "      <td>0</td>\n",
       "      <td>District</td>\n",
       "      <td>2917</td>\n",
       "      <td>1910635</td>\n",
       "    </tr>\n",
       "    <tr>\n",
       "      <th>Huang High School</th>\n",
       "      <td>1</td>\n",
       "      <td>Victor Smith</td>\n",
       "      <td>M</td>\n",
       "      <td>12th</td>\n",
       "      <td>94</td>\n",
       "      <td>61</td>\n",
       "      <td>0</td>\n",
       "      <td>District</td>\n",
       "      <td>2917</td>\n",
       "      <td>1910635</td>\n",
       "    </tr>\n",
       "    <tr>\n",
       "      <th>Huang High School</th>\n",
       "      <td>2</td>\n",
       "      <td>Kevin Rodriguez</td>\n",
       "      <td>M</td>\n",
       "      <td>12th</td>\n",
       "      <td>90</td>\n",
       "      <td>60</td>\n",
       "      <td>0</td>\n",
       "      <td>District</td>\n",
       "      <td>2917</td>\n",
       "      <td>1910635</td>\n",
       "    </tr>\n",
       "    <tr>\n",
       "      <th>Huang High School</th>\n",
       "      <td>3</td>\n",
       "      <td>Dr. Richard Scott</td>\n",
       "      <td>M</td>\n",
       "      <td>12th</td>\n",
       "      <td>67</td>\n",
       "      <td>58</td>\n",
       "      <td>0</td>\n",
       "      <td>District</td>\n",
       "      <td>2917</td>\n",
       "      <td>1910635</td>\n",
       "    </tr>\n",
       "    <tr>\n",
       "      <th>Huang High School</th>\n",
       "      <td>4</td>\n",
       "      <td>Bonnie Ray</td>\n",
       "      <td>F</td>\n",
       "      <td>9th</td>\n",
       "      <td>97</td>\n",
       "      <td>84</td>\n",
       "      <td>0</td>\n",
       "      <td>District</td>\n",
       "      <td>2917</td>\n",
       "      <td>1910635</td>\n",
       "    </tr>\n",
       "  </tbody>\n",
       "</table>\n",
       "</div>"
      ],
      "text/plain": [
       "                   Student ID       student_name gender grade  reading_score  \\\n",
       "school_name                                                                    \n",
       "Huang High School           0       Paul Bradley      M   9th             66   \n",
       "Huang High School           1       Victor Smith      M  12th             94   \n",
       "Huang High School           2    Kevin Rodriguez      M  12th             90   \n",
       "Huang High School           3  Dr. Richard Scott      M  12th             67   \n",
       "Huang High School           4         Bonnie Ray      F   9th             97   \n",
       "\n",
       "                   math_score  School ID      type  size   budget  \n",
       "school_name                                                        \n",
       "Huang High School          79          0  District  2917  1910635  \n",
       "Huang High School          61          0  District  2917  1910635  \n",
       "Huang High School          60          0  District  2917  1910635  \n",
       "Huang High School          58          0  District  2917  1910635  \n",
       "Huang High School          84          0  District  2917  1910635  "
      ]
     },
     "execution_count": 58,
     "metadata": {},
     "output_type": "execute_result"
    }
   ],
   "source": [
    "#Group each series by school\n",
    "school_data_df.columns\n",
    "grade_summary_df = school_data_df.groupby([\"school_name\"])\n",
    "#school_data_df=grade_summary_df.set_index(\"school_name\")\n",
    "df.head()\n",
    "#school_data_df.columns\n",
    "#school_summary_df = school_data_df[[\"school_name\",\"type\",\"size\",\"budget\",]]\n",
    "#school_df=school_summary_df.set_index(\"school_name\")"
   ]
  },
  {
   "cell_type": "code",
   "execution_count": 71,
   "metadata": {},
   "outputs": [
    {
     "ename": "SyntaxError",
     "evalue": "invalid syntax (<ipython-input-71-4ab4da8124f8>, line 2)",
     "output_type": "error",
     "traceback": [
      "\u001b[1;36m  File \u001b[1;32m\"<ipython-input-71-4ab4da8124f8>\"\u001b[1;36m, line \u001b[1;32m2\u001b[0m\n\u001b[1;33m    grades_df= grade_summary_df.loc([grade_summary_df[\"school_name\"] == \"grade\" :])\u001b[0m\n\u001b[1;37m                                                                                ^\u001b[0m\n\u001b[1;31mSyntaxError\u001b[0m\u001b[1;31m:\u001b[0m invalid syntax\n"
     ]
    }
   ],
   "source": [
    "#only want to show data from grades and schools\n",
    "grades_df= grade_summary_df.loc([grade_summary_df[\"school_name\"] == \"grade\" :])\n",
    "grades_df.head()"
   ]
  },
  {
   "cell_type": "code",
   "execution_count": 55,
   "metadata": {},
   "outputs": [],
   "source": [
    "#Combine the series into a dataframe\n"
   ]
  },
  {
   "cell_type": "code",
   "execution_count": null,
   "metadata": {},
   "outputs": [],
   "source": [
    "#Optional: give the displayed data cleaner formatting"
   ]
  },
  {
   "cell_type": "code",
   "execution_count": 15,
   "metadata": {},
   "outputs": [],
   "source": [
    "#Reading Score by Grade\n",
    "#Perform the same operations as above for reading scores"
   ]
  },
  {
   "cell_type": "code",
   "execution_count": 16,
   "metadata": {},
   "outputs": [],
   "source": [
    "#3 more modules- holy shit"
   ]
  },
  {
   "cell_type": "code",
   "execution_count": null,
   "metadata": {},
   "outputs": [],
   "source": []
  },
  {
   "cell_type": "code",
   "execution_count": null,
   "metadata": {},
   "outputs": [],
   "source": []
  },
  {
   "cell_type": "code",
   "execution_count": null,
   "metadata": {},
   "outputs": [],
   "source": []
  }
 ],
 "metadata": {
  "kernelspec": {
   "display_name": "Python 3",
   "language": "python",
   "name": "python3"
  },
  "language_info": {
   "codemirror_mode": {
    "name": "ipython",
    "version": 3
   },
   "file_extension": ".py",
   "mimetype": "text/x-python",
   "name": "python",
   "nbconvert_exporter": "python",
   "pygments_lexer": "ipython3",
   "version": "3.8.3"
  }
 },
 "nbformat": 4,
 "nbformat_minor": 4
}
